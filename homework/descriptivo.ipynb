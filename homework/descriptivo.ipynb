{
 "cells": [
  {
   "cell_type": "code",
   "execution_count": 2,
   "metadata": {},
   "outputs": [
    {
     "data": {
      "application/vnd.microsoft.datawrangler.viewer.v0+json": {
       "columns": [
        {
         "name": "index",
         "rawType": "int64",
         "type": "integer"
        },
        {
         "name": "price",
         "rawType": "float64",
         "type": "float"
        }
       ],
       "ref": "092d45d9-80f4-4692-91c3-9bd1e7257fdf",
       "rows": [
        [
         "0",
         "221900.0"
        ],
        [
         "1",
         "538000.0"
        ],
        [
         "2",
         "180000.0"
        ],
        [
         "3",
         "604000.0"
        ],
        [
         "4",
         "510000.0"
        ],
        [
         "5",
         "1225000.0"
        ],
        [
         "6",
         "257500.0"
        ],
        [
         "7",
         "291850.0"
        ],
        [
         "8",
         "229500.0"
        ],
        [
         "9",
         "323000.0"
        ],
        [
         "10",
         "662500.0"
        ],
        [
         "11",
         "468000.0"
        ],
        [
         "12",
         "310000.0"
        ],
        [
         "13",
         "400000.0"
        ],
        [
         "14",
         "530000.0"
        ],
        [
         "15",
         "650000.0"
        ],
        [
         "16",
         "395000.0"
        ],
        [
         "17",
         "485000.0"
        ],
        [
         "18",
         "189000.0"
        ],
        [
         "19",
         "230000.0"
        ],
        [
         "20",
         "385000.0"
        ],
        [
         "21",
         "2000000.0"
        ],
        [
         "22",
         "285000.0"
        ],
        [
         "23",
         "252700.0"
        ],
        [
         "24",
         "329000.0"
        ],
        [
         "25",
         "233000.0"
        ],
        [
         "26",
         "937000.0"
        ],
        [
         "27",
         "667000.0"
        ],
        [
         "28",
         "438000.0"
        ],
        [
         "29",
         "719000.0"
        ],
        [
         "30",
         "580500.0"
        ],
        [
         "31",
         "280000.0"
        ],
        [
         "32",
         "687500.0"
        ],
        [
         "33",
         "535000.0"
        ],
        [
         "34",
         "322500.0"
        ],
        [
         "35",
         "696000.0"
        ],
        [
         "36",
         "550000.0"
        ],
        [
         "37",
         "640000.0"
        ],
        [
         "38",
         "240000.0"
        ],
        [
         "39",
         "605000.0"
        ],
        [
         "40",
         "625000.0"
        ],
        [
         "41",
         "775000.0"
        ],
        [
         "42",
         "861990.0"
        ],
        [
         "43",
         "685000.0"
        ],
        [
         "44",
         "309000.0"
        ],
        [
         "45",
         "488000.0"
        ],
        [
         "46",
         "210490.0"
        ],
        [
         "47",
         "785000.0"
        ],
        [
         "48",
         "450000.0"
        ],
        [
         "49",
         "1350000.0"
        ]
       ],
       "shape": {
        "columns": 1,
        "rows": 21613
       }
      },
      "text/html": [
       "<div>\n",
       "<style scoped>\n",
       "    .dataframe tbody tr th:only-of-type {\n",
       "        vertical-align: middle;\n",
       "    }\n",
       "\n",
       "    .dataframe tbody tr th {\n",
       "        vertical-align: top;\n",
       "    }\n",
       "\n",
       "    .dataframe thead th {\n",
       "        text-align: right;\n",
       "    }\n",
       "</style>\n",
       "<table border=\"1\" class=\"dataframe\">\n",
       "  <thead>\n",
       "    <tr style=\"text-align: right;\">\n",
       "      <th></th>\n",
       "      <th>price</th>\n",
       "    </tr>\n",
       "  </thead>\n",
       "  <tbody>\n",
       "    <tr>\n",
       "      <th>0</th>\n",
       "      <td>221900.0</td>\n",
       "    </tr>\n",
       "    <tr>\n",
       "      <th>1</th>\n",
       "      <td>538000.0</td>\n",
       "    </tr>\n",
       "    <tr>\n",
       "      <th>2</th>\n",
       "      <td>180000.0</td>\n",
       "    </tr>\n",
       "    <tr>\n",
       "      <th>3</th>\n",
       "      <td>604000.0</td>\n",
       "    </tr>\n",
       "    <tr>\n",
       "      <th>4</th>\n",
       "      <td>510000.0</td>\n",
       "    </tr>\n",
       "    <tr>\n",
       "      <th>...</th>\n",
       "      <td>...</td>\n",
       "    </tr>\n",
       "    <tr>\n",
       "      <th>21608</th>\n",
       "      <td>360000.0</td>\n",
       "    </tr>\n",
       "    <tr>\n",
       "      <th>21609</th>\n",
       "      <td>400000.0</td>\n",
       "    </tr>\n",
       "    <tr>\n",
       "      <th>21610</th>\n",
       "      <td>402101.0</td>\n",
       "    </tr>\n",
       "    <tr>\n",
       "      <th>21611</th>\n",
       "      <td>400000.0</td>\n",
       "    </tr>\n",
       "    <tr>\n",
       "      <th>21612</th>\n",
       "      <td>325000.0</td>\n",
       "    </tr>\n",
       "  </tbody>\n",
       "</table>\n",
       "<p>21613 rows × 1 columns</p>\n",
       "</div>"
      ],
      "text/plain": [
       "          price\n",
       "0      221900.0\n",
       "1      538000.0\n",
       "2      180000.0\n",
       "3      604000.0\n",
       "4      510000.0\n",
       "...         ...\n",
       "21608  360000.0\n",
       "21609  400000.0\n",
       "21610  402101.0\n",
       "21611  400000.0\n",
       "21612  325000.0\n",
       "\n",
       "[21613 rows x 1 columns]"
      ]
     },
     "execution_count": 2,
     "metadata": {},
     "output_type": "execute_result"
    }
   ],
   "source": [
    "#%%\n",
    "import pandas as pd  #  type: ignore\n",
    "\n",
    "df = pd.read_csv(\"../files/input/house_data.csv\")\n",
    "\n",
    "features = df[\n",
    "    [\n",
    "        \"bedrooms\",\n",
    "        \"bathrooms\",\n",
    "        \"sqft_living\",\n",
    "        \"sqft_lot\",\n",
    "        \"floors\",\n",
    "        \"waterfront\",\n",
    "        \"condition\",\n",
    "    ]\n",
    "]\n",
    "\n",
    "target = df[[\"price\"]]\n",
    "target"
   ]
  }
 ],
 "metadata": {
  "kernelspec": {
   "display_name": ".venv (3.13.7)",
   "language": "python",
   "name": "python3"
  },
  "language_info": {
   "codemirror_mode": {
    "name": "ipython",
    "version": 3
   },
   "file_extension": ".py",
   "mimetype": "text/x-python",
   "name": "python",
   "nbconvert_exporter": "python",
   "pygments_lexer": "ipython3",
   "version": "3.13.7"
  }
 },
 "nbformat": 4,
 "nbformat_minor": 5
}
